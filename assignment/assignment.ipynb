{
  "cells": [
    {
      "cell_type": "markdown",
      "id": "13ad028b-72b7-43ed-aa78-96fd4e518040",
      "metadata": {
        "id": "13ad028b-72b7-43ed-aa78-96fd4e518040"
      },
      "source": [
        "# Assignment: Data Wrangling\n",
        "## `! git clone https://github.com/DS3001/wrangling`\n",
        "## Do Q2, and one of Q1 or Q3."
      ]
    },
    {
      "cell_type": "markdown",
      "id": "5735a4d4-8be8-433a-a351-70eb8002e632",
      "metadata": {
        "id": "5735a4d4-8be8-433a-a351-70eb8002e632"
      },
      "source": [
        "**Q1.** Open the \"tidy_data.pdf\" document in the repo, which is a paper called Tidy Data by Hadley Wickham.\n",
        "\n",
        "  1. Read the abstract. What is this paper about?\n",
        "  2. Read the introduction. What is the \"tidy data standard\" intended to accomplish?\n",
        "  3. Read the intro to section 2. What does this sentence mean: \"Like families, tidy datasets are all alike but every messy dataset is messy in its own way.\" What does this sentence mean: \"For a given dataset, it’s usually easy to figure out what are observations and what are variables, but it is surprisingly difficult to precisely define variables and observations in general.\"\n",
        "  4. Read Section 2.2. How does Wickham define values, variables, and observations?\n",
        "  5. How is \"Tidy Data\" defined in section 2.3?\n",
        "  6. Read the intro to Section 3 and Section 3.1. What are the 5 most common problems with messy datasets? Why are the data in Table 4 messy? What is \"melting\" a dataset?\n",
        "  7. Why, specifically, is table 11 messy but table 12 tidy and \"molten\"?\n",
        "  8. Read Section 6. What is the \"chicken-and-egg\" problem with focusing on tidy data? What does Wickham hope happens in the future with further work on the subject of data wrangling?"
      ]
    },
    {
      "cell_type": "markdown",
      "id": "5c18cdd2",
      "metadata": {},
      "source": [
        "**ANSWERS TO QUESTION 1**\n",
        "\n",
        "1. Rather than clean data, this paper is advocating for \"tidy\" data. It is a more structured, easily accessible way to interact with a data set. This further makes it easier to do analysis, etc.\n",
        "2. The \"tidy data standard\" tries to provide a standardized way to organize data. It's similar in language to relational database, but in more familiar language. It will allow for initial exploration and analysis of data while providing later easier development and analytics.\n",
        "3. The first sentence means that tidy data sets value standardization. Meanwhile, all data sets are messy but each have their own challenges a data scientist will need to manage. The second sentence means variable and observations can be fluid depending on the data set and context, so it is therefore difficult to precisely define those terms for all datasets.\n",
        "4. Values: some sort of qualitative or quantitative piece of data. Variable: the \"container\" that holds a value. One variable will always measure the same type of value. Observation: Contains all the values measured across a unit, e.g. a row in a table.\n",
        "5. Tidy Data has three qualities: Each variable forms a column, Each observation forms a row, Each type of observational unit forms a table.\n",
        "6. \n",
        "    6a. 5 most common problems: The column headers are values, not variable names. Multiple variables are stored in one column. Variables being stored in both rows and columns. Multiple types of observational units are stored in the same table. A single observational unit is stored in multiple tables.\n",
        "    6b. The data in table 4 is messy because there are three distinct variables, yet those variables are not represented in the columns. Melting a dataset is essentially an unpivot. This is the turning the columns into rows.\n",
        "7. Table 11 is messy because not each variable forms a column. The variable \"date\" is spread out among many columns which is unnecessary. Meanwhile, Table 12 consolidates each variable to its own column.\n",
        "8. The chicken-and-egg problem relates to the tidy data and tidy tools. Tidy data relies on tidy tools to utilize the data well. On the other hand, tidy tools can only exist if there exists tidy data. In the future, Wickham wants to incorporate other fields of study to make \"tidy data\" accessible to them as well. He also wants to look at topics like multidimensional arrays and other data cleaning tasks."
      ]
    },
    {
      "cell_type": "markdown",
      "id": "da879ea7-8aac-48a3-b6c2-daea56d2e072",
      "metadata": {
        "id": "da879ea7-8aac-48a3-b6c2-daea56d2e072"
      },
      "source": [
        "**Q2.** This question provides some practice cleaning variables which have common problems.\n",
        "1. Numeric variable: For `./data/airbnb_hw.csv`, clean the `Price` variable as well as you can, and explain the choices you make. How many missing values do you end up with? (Hint: What happens to the formatting when a price goes over 999 dollars, say from 675 to 1,112?)\n",
        "2. Categorical variable: For the `./data/sharks.csv` data covered in the lecture, clean the \"Type\" variable as well as you can, and explain the choices you make.\n",
        "3. Dummy variable: For the pretrial data covered in the lecture, clean the `WhetherDefendantWasReleasedPretrial` variable as well as you can, and, in particular, replace missing values with `np.nan`.\n",
        "4. Missing values, not at random: For the pretrial data covered in the lecture, clean the `ImposedSentenceAllChargeInContactEvent` variable as well as you can, and explain the choices you make. (Hint: Look at the `SentenceTypeAllChargesAtConvictionInContactEvent` variable.)"
      ]
    },
    {
      "cell_type": "code",
      "execution_count": 121,
      "id": "cff5d80f",
      "metadata": {},
      "outputs": [
        {
          "name": "stdout",
          "output_type": "stream",
          "text": [
            "9053\n"
          ]
        }
      ],
      "source": [
        "import numpy as np\n",
        "import matplotlib.pyplot as plt\n",
        "import pandas as pd\n",
        "\n",
        "df = pd.read_csv('./data/airbnb_hw.csv',low_memory=False)\n",
        "\n",
        "price = df['Price']\n",
        "price=price.str.replace(',','')\n",
        "#want to replace all the commas for thousands+\n",
        "price = pd.to_numeric(price, errors='coerce')\n",
        "#change it to a number\n",
        "\n",
        "df2 = pd.read_csv('./data/sharks.csv', low_memory=False)\n",
        "type = df2['Type']\n",
        "# type.value_counts()\n",
        "type = type.replace(['Unconfirmed', 'Invalid', 'Unverified', 'Questionable', 'Under investigation'], np.nan)\n",
        "#i'm sorting the rows that don't have valid types into the missing vals\n",
        "type = type.replace(['Boatomg'], 'Boating')\n",
        "#i think they mispelled this\n",
        "df2['Type'] = type\n",
        "\n",
        "df3 = pd.read_parquet('./data/justice_data.parquet')\n",
        "released = df3['WhetherDefendantWasReleasedPretrial']\n",
        "released = released.replace(9,np.nan)\n",
        "#in the codebook, it says that 9 = unclear, therefore replace with nan\n",
        "df3['WhetherDefendantWasReleasedPretrial'] = released\n",
        "\n",
        "#continue using df3\n",
        "sentence = df3['ImposedSentenceAllChargeInContactEvent']\n",
        "sentencetype = df3['SentenceTypeAllChargesAtConvictionInContactEvent']\n",
        "\n",
        "sentence = pd.to_numeric(sentence,errors='coerce')\n",
        "print(np.sum(sentence.isna()))\n",
        "\n",
        "#again, looking at the codebook, 4 is dropped sentences and 9 is not applicable\n",
        "#so, 4 will be no sentence and 9 will be unknown\n",
        "sentence = sentence.mask(type==9, np.nan)\n",
        "sentence = sentence.mask(type==4, 0)\n",
        "\n",
        "df3['ImposedSentenceAllChargeInContactEvent'] = sentence"
      ]
    },
    {
      "cell_type": "markdown",
      "id": "649494cd-cfd6-4f80-992a-9994fc19e1d5",
      "metadata": {
        "id": "649494cd-cfd6-4f80-992a-9994fc19e1d5"
      },
      "source": [
        "**Q3.** Many important datasets contain a race variable, typically limited to a handful of values often including Black, White, Asian, Latino, and Indigenous. This question looks at data gathering efforts on this variable by the U.S. Federal government.\n",
        "\n",
        "1. How did the most recent US Census gather data on race?\n",
        "2. Why do we gather these data? What role do these kinds of data play in politics and society? Why does data quality matter?\n",
        "3. Please provide a constructive criticism of how the Census was conducted: What was done well? What do you think was missing? How should future large scale surveys be adjusted to best reflect the diversity of the population? Could some of the Census' good practices be adopted more widely to gather richer and more useful data?\n",
        "4. How did the Census gather data on sex and gender? Please provide a similar constructive criticism of their practices.\n",
        "5. When it comes to cleaning data, what concerns do you have about protected characteristics like sex, gender, sexual identity, or race? What challenges can you imagine arising when there are missing values? What good or bad practices might people adopt, and why?\n",
        "6. Suppose someone invented an algorithm to impute values for protected characteristics like race, gender, sex, or sexuality. What kinds of concerns would you have?"
      ]
    }
  ],
  "metadata": {
    "colab": {
      "provenance": []
    },
    "kernelspec": {
      "display_name": "Python 3 (ipykernel)",
      "language": "python",
      "name": "python3"
    },
    "language_info": {
      "codemirror_mode": {
        "name": "ipython",
        "version": 3
      },
      "file_extension": ".py",
      "mimetype": "text/x-python",
      "name": "python",
      "nbconvert_exporter": "python",
      "pygments_lexer": "ipython3",
      "version": "3.10.11"
    }
  },
  "nbformat": 4,
  "nbformat_minor": 5
}
